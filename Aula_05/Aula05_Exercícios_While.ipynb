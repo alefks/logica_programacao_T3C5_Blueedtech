{
  "nbformat": 4,
  "nbformat_minor": 0,
  "metadata": {
    "colab": {
      "name": "Aula 05 Exercícios.ipynb",
      "provenance": [],
      "collapsed_sections": [],
      "authorship_tag": "ABX9TyMrmV4GpCtNQpDWe5tclifS",
      "include_colab_link": true
    },
    "kernelspec": {
      "name": "python3",
      "display_name": "Python 3"
    },
    "language_info": {
      "name": "python"
    }
  },
  "cells": [
    {
      "cell_type": "markdown",
      "metadata": {
        "id": "view-in-github",
        "colab_type": "text"
      },
      "source": [
        "<a href=\"https://colab.research.google.com/github/alefks/logica_programacao/blob/main/Aula_05_Exerc%C3%ADcios.ipynb\" target=\"_parent\"><img src=\"https://colab.research.google.com/assets/colab-badge.svg\" alt=\"Open In Colab\"/></a>"
      ]
    },
    {
      "cell_type": "markdown",
      "metadata": {
        "id": "5FjgwyZ5uhJj"
      },
      "source": [
        "1 - Faça um programa que leia o sexo biológico de uma pessoa, mas só aceite os valores ‘M’ ou ‘F’.\n",
        "Caso esteja errado, peça a digitação novamente até ter um valor correto"
      ]
    },
    {
      "cell_type": "code",
      "metadata": {
        "id": "NH338smdukaZ"
      },
      "source": [
        "sexo = str(input(\"Digite o sexo (M/F): \").upper())\n",
        "\n",
        "while sexo != \"M\" and sexo != \"F\":\n",
        "  sexo = str(input(\"Digite corretamente seu sexo (M/F): \").upper())\n",
        "\n",
        "if sexo == \"M\":\n",
        "  print(\"Seu sexo é masculino!\")\n",
        "if sexo == \"F\":\n",
        "  print(\"Seu sexo é feminino!\")"
      ],
      "execution_count": null,
      "outputs": []
    },
    {
      "cell_type": "markdown",
      "metadata": {
        "id": "LvXtH4kP8vzK"
      },
      "source": [
        "2 - Escreva um programa que pede a senha uma senha ao usuário, e só sai do loop quando digitarem\n",
        "corretamente a senha. A senha é “Blue123”\n",
        "2b - Exiba quantas vezes o usuário errou a digitação."
      ]
    },
    {
      "cell_type": "code",
      "metadata": {
        "id": "MCb5Krery2xP"
      },
      "source": [
        "senha = str(input(\"Digite a senha: \"))\n",
        "tentativas = 0\n",
        "\n",
        "while senha != \"Blue123\":\n",
        "  senha = str(input(\"Senha incorreta. Digite novamente: \"))\n",
        "  tentativas += 1\n",
        "\n",
        "print(f\"Você errou a senha {tentativas} vezes.\")"
      ],
      "execution_count": null,
      "outputs": []
    },
    {
      "cell_type": "markdown",
      "metadata": {
        "id": "Er21n443YRhZ"
      },
      "source": [
        "3 - Crie um programa que leia a idade e o sexo de várias pessoas. A cada pessoa\n",
        "cadastrada, o programa deverá perguntar se o usuário quer ou não continuar. No\n",
        "final, mostre:\n",
        "A) Quantas pessoas tem mais de 18 anos.\n",
        "B) Quantos homens foram cadastrados.\n",
        "C) Quantas mulheres tem menos de 20 anos."
      ]
    },
    {
      "cell_type": "code",
      "metadata": {
        "id": "b5KbxiHAYVH8"
      },
      "source": [
        "maiorIdade = 0\n",
        "homens = 0\n",
        "mulherMenorVinte = 0\n",
        "\n",
        "idade = 0\n",
        "sexo = \"\"\n",
        "\n",
        "while True:\n",
        "  idade = int(input(\"Novo cadastro! \\nDigite sua idade: \"))\n",
        "  if idade > 18:\n",
        "    maiorIdade+= 1\n",
        "  \n",
        "  sexo = str(input(\"Digite seu sexo (H/M): \").upper())\n",
        "  \n",
        "  while sexo != \"M\" and sexo != \"H\":\n",
        "    print(\"\")\n",
        "    print(\"Você digitou algo errado.\")\n",
        "    sexo = str(input(\"Digite seu sexo (H/M): \").upper())\n",
        "\n",
        "  if sexo == \"M\" and idade < 20:\n",
        "    mulherMenorVinte+= 1\n",
        "\n",
        "  if sexo == \"M\":\n",
        "    print(f\"Você se cadastrou como mulher, {idade} anos de idade.\")\n",
        "  \n",
        "  if sexo == \"H\":\n",
        "    homens+= 1\n",
        "    print(f\"Você se cadastrou como homem, {idade} anos de idade.\")\n",
        "\n",
        "  \n",
        "  \n",
        "  print(\"\")\n",
        "  pergunta = str(input(\"Deseja realizar outro cadastro? (S/N): \").upper())\n",
        "  print(\"\")\n",
        "  \n",
        "  while pergunta != \"S\" and pergunta != \"N\":\n",
        "    print(\"Você digitou algo errado.\")\n",
        "    pergunta = str(input(\"Deseja realizar outro cadastro? (S/N): \").upper())\n",
        "    print(\"\")\n",
        "\n",
        "  if pergunta == \"N\":\n",
        "     break\n",
        "  \n",
        "print(f\"Total de pessoas maiores de idade: {maiorIdade}\")\n",
        "print(f\"Total de homens cadastrados: {homens}\")\n",
        "print(f\"Total de mulheres com menos de 20 anos: {mulherMenorVinte}\")"
      ],
      "execution_count": null,
      "outputs": []
    },
    {
      "cell_type": "markdown",
      "metadata": {
        "id": "BG9ICXW0mxUJ"
      },
      "source": [
        "4 - Crie um jogo onde o computador vai “pensar” em um número entre 0 e 10. O jogador vai tentar\n",
        "adivinhar qual número foi escolhido até acertar, mostrando no final quantos palpites foram\n",
        "necessários para vencer."
      ]
    },
    {
      "cell_type": "code",
      "metadata": {
        "id": "KN1mZOxDmzX1"
      },
      "source": [
        "import random\n",
        "\n",
        "palpites = 0\n",
        "numero = random.randint(0,10)\n",
        "\n",
        "adivinhar = int(input(\"Tente adivinhar o número que irei pensar: \"))\n",
        "print(\"\")\n",
        "\n",
        "while adivinhar > 10 or adivinhar < 0:\n",
        "  print(\"Você digitou algo errado.\")\n",
        "  adivinhar = int(input(\"Tente adivinhar o número que irei pensar: \"))\n",
        "  print(\"\")\n",
        "\n",
        "while adivinhar != numero:\n",
        "  palpites+= 1\n",
        "  print(\"Errou, hahaha!\")\n",
        "  adivinhar = int(input(\"Tente novamente: \"))\n",
        "  print(\"\")\n",
        "\n",
        "if adivinhar == numero:\n",
        "  print(f\"Parabéns, você acertou. O número que eu pensei foi {numero} mesmo.\")\n",
        "\n",
        "print(f\"Número de tentativas: {palpites}\")"
      ],
      "execution_count": null,
      "outputs": []
    }
  ]
}